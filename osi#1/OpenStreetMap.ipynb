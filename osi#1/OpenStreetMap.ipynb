{
 "cells": [
  {
   "cell_type": "code",
   "execution_count": 1,
   "metadata": {},
   "outputs": [
    {
     "name": "stderr",
     "output_type": "stream",
     "text": [
      "INFO:root:area[name = \"New Delhi\"]; node(area)[shop];\n",
      "DEBUG:urllib3.connectionpool:Starting new HTTPS connection (1): lz4.overpass-api.de:443\n"
     ]
    },
    {
     "name": "stdout",
     "output_type": "stream",
     "text": [
      "[out:json];area[name = \"New Delhi\"]; node(area)[shop];out body;\n",
      "send: b'POST /api/interpreter HTTP/1.1\\r\\nHost: lz4.overpass-api.de\\r\\nUser-Agent: python-requests/2.22.0\\r\\nAccept-Encoding: gzip, deflate\\r\\nAccept: */*\\r\\nConnection: keep-alive\\r\\nAccept-Charset: utf-8;q=0.7,*;q=0.7\\r\\nContent-Length: 100\\r\\nContent-Type: application/x-www-form-urlencoded\\r\\n\\r\\n'\n",
      "send: b'data=%5Bout%3Ajson%5D%3Barea%5Bname+%3D+%22New+Delhi%22%5D%3B+node%28area%29%5Bshop%5D%3Bout+body%3B'\n"
     ]
    },
    {
     "name": "stderr",
     "output_type": "stream",
     "text": [
      "DEBUG:urllib3.connectionpool:https://lz4.overpass-api.de:443 \"POST /api/interpreter HTTP/1.1\" 200 11237\n"
     ]
    },
    {
     "name": "stdout",
     "output_type": "stream",
     "text": [
      "reply: 'HTTP/1.1 200 OK\\r\\n'\n",
      "header: Date: Sun, 13 Oct 2019 12:42:16 GMT\n",
      "header: Server: Apache/2.4.18 (Ubuntu)\n",
      "header: Vary: Accept-Encoding\n",
      "header: Content-Encoding: gzip\n",
      "header: Content-Length: 11237\n",
      "header: Keep-Alive: timeout=5, max=100\n",
      "header: Connection: Keep-Alive\n",
      "header: Content-Type: application/json\n",
      "application/json\n"
     ]
    }
   ],
   "source": [
    "# Let's extract all the nodes first.\n",
    "\n",
    "import overpass\n",
    "\n",
    "master_query = 'area[name = \"New Delhi\"]; node(area)[shop];'\n",
    "\n",
    "api_endpoint = overpass.API(endpoint='https://lz4.overpass-api.de/api/interpreter', debug=True)\n",
    "\n",
    "response = api_endpoint.get(master_query)"
   ]
  },
  {
   "cell_type": "code",
   "execution_count": 2,
   "metadata": {},
   "outputs": [],
   "source": [
    "# A little bit of preprocessing because GeoJSON seems hard.\n",
    "\n",
    "data = list(response.values())[1]\n",
    "dict_data = []\n",
    "\n",
    "available_categories = {}\n",
    "\n",
    "for elem in data:\n",
    "    category = elem['properties']['shop']\n",
    "    available_categories.setdefault(category, 0)\n",
    "    available_categories[category] += 1\n",
    "    current_dict = {'id': elem['id'],\n",
    "                    'type': category,\n",
    "                    'coordinates': elem['geometry']['coordinates']}\n",
    "    dict_data.append(current_dict)"
   ]
  },
  {
   "cell_type": "code",
   "execution_count": 3,
   "metadata": {},
   "outputs": [],
   "source": [
    "available_categories = dict(sorted(available_categories.items(), key=lambda x: x[1]))"
   ]
  },
  {
   "cell_type": "code",
   "execution_count": 6,
   "metadata": {},
   "outputs": [
    {
     "data": {
      "image/png": "[encoded data removed]",
      "text/plain": [
       "<Figure size 432x288 with 1 Axes>"
      ]
     },
     "metadata": {
      "needs_background": "light"
     },
     "output_type": "display_data"
    }
   ],
   "source": [
    "import matplotlib.pyplot as plt\n",
    "import matplotlib\n",
    "\n",
    "font = {'family' : 'normal',\n",
    "        'weight' : 'normal',\n",
    "        'size'   : 4}\n",
    "\n",
    "matplotlib.rc('font', **font)\n",
    "\n",
    "fig, ax = plt.subplots()\n",
    "\n",
    "shop_cat = list(available_categories.keys())\n",
    "y_pos = range(len(shop_cat))\n",
    "shop_freq = list(available_categories.values())\n",
    "\n",
    "ax.barh(y_pos, shop_freq, align='center')\n",
    "ax.set_yticks(y_pos)\n",
    "ax.set_yticklabels(shop_cat)\n",
    "ax.invert_yaxis()\n",
    "ax.set_xlabel('Number of Shops')\n",
    "ax.set_title('Shops in New Delhi')\n",
    "\n",
    "plt.savefig('ShopCategories.png', dpi=300)"
   ]
  },
  {
   "cell_type": "code",
   "execution_count": 7,
   "metadata": {},
   "outputs": [],
   "source": [
    "# Forming class tags\n",
    "tag_list = {}\n",
    "i = 0\n",
    "for elem in available_categories:\n",
    "    tag_list[elem] = i\n",
    "    i = i + 1"
   ]
  },
  {
   "cell_type": "code",
   "execution_count": 56,
   "metadata": {},
   "outputs": [
    {
     "data": {
      "image/png": "[encoded data removed]",
      "text/plain": [
       "<Figure size 432x288 with 1 Axes>"
      ]
     },
     "metadata": {
      "needs_background": "light"
     },
     "output_type": "display_data"
    }
   ],
   "source": [
    "# Finding distance between two points\n",
    "import pandas as pd\n",
    "data_matrix = pd.DataFrame([elem['coordinates'] for elem in dict_data], columns = ['lon', 'lat'], index=[elem['id'] for elem in dict_data])\n",
    "\n",
    "from scipy.spatial import distance_matrix\n",
    "distance_matrix = pd.DataFrame(distance_matrix(data_matrix.values, data_matrix.values), index=data_matrix.index, columns=data_matrix.index)\n",
    "\n",
    "# Filling diagonals with a high value so they're not included in the \n",
    "import numpy as np\n",
    "np.fill_diagonal(distance_matrix.values, 9999)\n",
    "\n",
    "# Finding the lowest distance in every row from distance matrix for finding out Epsilon Distance in DBSCAN\n",
    "eps_distance = []\n",
    "for elem in distance_matrix.index:\n",
    "    eps_distance.append(distance_matrix[elem].min())\n",
    "    \n",
    "eps_distance = np.sort(eps_distance)\n",
    "\n",
    "# Plotting the nearest neighbor distance array\n",
    "plt.plot(eps_distance)\n",
    "plt.savefig('eps_distance', dpi=300)\n",
    "\n",
    "# The point of maximum curvature should be about ~ 0.007 but the 0.007, which is roughly equivalent to 1KM, but 0.006 forms 14 clusters, compared to 13 with 0.007"
   ]
  },
  {
   "cell_type": "code",
   "execution_count": 61,
   "metadata": {},
   "outputs": [],
   "source": [
    "# DBSCAN Preprocessing \n",
    "\n",
    "data_np = data_matrix.to_numpy()"
   ]
  },
  {
   "cell_type": "code",
   "execution_count": 143,
   "metadata": {},
   "outputs": [],
   "source": [
    "db = DBSCAN(eps=0.006).fit(data_np)"
   ]
  },
  {
   "cell_type": "code",
   "execution_count": 144,
   "metadata": {},
   "outputs": [],
   "source": [
    "core_samples_mask = np.zeros_like(db.labels_, dtype=bool) \n",
    "core_samples_mask[db.core_sample_indices_] = True\n",
    "labels = db.labels_ "
   ]
  },
  {
   "cell_type": "code",
   "execution_count": 145,
   "metadata": {},
   "outputs": [],
   "source": [
    "n_clusters_ = len(set(labels)) - (1 if -1 in labels else 0) "
   ]
  },
  {
   "cell_type": "code",
   "execution_count": 146,
   "metadata": {},
   "outputs": [],
   "source": [
    "unique_labels = set(labels)"
   ]
  },
  {
   "cell_type": "code",
   "execution_count": 148,
   "metadata": {},
   "outputs": [],
   "source": [
    "# Generating random colors according to cluster\n",
    "import random\n",
    "r = lambda: random.randint(0,255)\n",
    "unique_colors = ['#%02X%02X%02X' % (r(),r(),r()) for elem in unique_labels]"
   ]
  },
  {
   "cell_type": "code",
   "execution_count": 247,
   "metadata": {},
   "outputs": [
    {
     "data": {
      "image/png": "[encoded data removed]",
      "text/plain": [
       "<Figure size 432x288 with 1 Axes>"
      ]
     },
     "metadata": {
      "needs_background": "light"
     },
     "output_type": "display_data"
    }
   ],
   "source": [
    "# Plotting clusters\n",
    "# from mpl_toolkits.basemap import Basemap\n",
    "# m = Basemap(llcrnrlon=77.338600,llcrnrlat=28.683962,urcrnrlon=77.109947,urcrnrlat=28.529337, epsg=3857)\n",
    "# m.arcgisimage(service='ESRI_Imagery_World_2D', xpixels = 1500, verbose= True)\n",
    "for k, col in zip(unique_labels, unique_colors): \n",
    "    if k == -1: \n",
    "        # Black used for noise. \n",
    "        col = 'k'\n",
    "  \n",
    "    class_member_mask = (labels == k) \n",
    "  \n",
    "    xy = data_np[class_member_mask & core_samples_mask] \n",
    "    plt.plot(xy[:, 0], xy[:, 1], 'o', markerfacecolor=col, \n",
    "                                      markeredgecolor='k',  \n",
    "                                      markersize=5) \n",
    "  \n",
    "    xy = data_np[class_member_mask & ~core_samples_mask] \n",
    "    plt.plot(xy[:, 0], xy[:, 1], 'o', markerfacecolor=col, \n",
    "                                      markeredgecolor='k', \n",
    "                                      markersize=5)\n",
    "\n",
    "plt.savefig('Clusters_Mapped.png', dpi=300)"
   ]
  },
  {
   "cell_type": "code",
   "execution_count": 220,
   "metadata": {},
   "outputs": [],
   "source": [
    "# Let's print some properties of these clustesr\n",
    "# size, types of shops, average distance between shops\n",
    "clusters = {}\n",
    "for i in labels:\n",
    "    clusters.setdefault(i, [])\n",
    "    clusters[i].append(dict_data[i])"
   ]
  },
  {
   "cell_type": "code",
   "execution_count": 231,
   "metadata": {},
   "outputs": [
    {
     "data": {
      "text/plain": [
       "14"
      ]
     },
     "execution_count": 231,
     "metadata": {},
     "output_type": "execute_result"
    }
   ],
   "source": [
    "for cluster in clusters:\n",
    "    print(\"***********************\\nSize of Cluster: {}\\n\")\n",
    "    temp = [elem[] for elem in cluster]"
   ]
  },
  {
   "cell_type": "code",
   "execution_count": 238,
   "metadata": {},
   "outputs": [
    {
     "data": {
      "text/plain": [
       "[{'id': 438038593,\n",
       "  'type': 'supermarket',\n",
       "  'coordinates': [77.156189, 28.524796]},\n",
       " {'id': 438038593,\n",
       "  'type': 'supermarket',\n",
       "  'coordinates': [77.156189, 28.524796]},\n",
       " {'id': 438038593,\n",
       "  'type': 'supermarket',\n",
       "  'coordinates': [77.156189, 28.524796]},\n",
       " {'id': 438038593,\n",
       "  'type': 'supermarket',\n",
       "  'coordinates': [77.156189, 28.524796]},\n",
       " {'id': 438038593,\n",
       "  'type': 'supermarket',\n",
       "  'coordinates': [77.156189, 28.524796]},\n",
       " {'id': 438038593,\n",
       "  'type': 'supermarket',\n",
       "  'coordinates': [77.156189, 28.524796]},\n",
       " {'id': 438038593,\n",
       "  'type': 'supermarket',\n",
       "  'coordinates': [77.156189, 28.524796]},\n",
       " {'id': 438038593,\n",
       "  'type': 'supermarket',\n",
       "  'coordinates': [77.156189, 28.524796]},\n",
       " {'id': 438038593,\n",
       "  'type': 'supermarket',\n",
       "  'coordinates': [77.156189, 28.524796]}]"
      ]
     },
     "execution_count": 238,
     "metadata": {},
     "output_type": "execute_result"
    }
   ],
   "source": [
    "\n",
    "clusters[0]"
   ]
  },
  {
   "cell_type": "code",
   "execution_count": null,
   "metadata": {},
   "outputs": [],
   "source": []
  }
 ],
 "metadata": {
  "kernelspec": {
   "display_name": "Python 3",
   "language": "python",
   "name": "python3"
  },
  "language_info": {
   "codemirror_mode": {
    "name": "ipython",
    "version": 3
   },
   "file_extension": ".py",
   "mimetype": "text/x-python",
   "name": "python",
   "nbconvert_exporter": "python",
   "pygments_lexer": "ipython3",
   "version": "3.6.7"
  }
 },
 "nbformat": 4,
 "nbformat_minor": 2
}
